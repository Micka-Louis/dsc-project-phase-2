{
 "cells": [
  {
   "cell_type": "markdown",
   "metadata": {},
   "source": [
    "# Akademi (Flatiron School) — Data Science & AI, Cohorte 2025"
   ]
  },
  {
   "cell_type": "markdown",
   "metadata": {},
   "source": [
    "# Second Project – Phase 2\n",
    "\n",
    "**Student Name**: Micka LOUIS  \n",
    "**Student Pace**: Self-paced  \n",
    "**Submission Deadline**: July 20, 2025  \n",
    "**Instructors' Names**: Wedter JEROME & Geovany Batista Polo LAGUERRE  \n",
    "**Blog Post URL**:  "
   ]
  },
  {
   "cell_type": "markdown",
   "metadata": {},
   "source": [
    "# **Project Title**"
   ]
  },
  {
   "cell_type": "markdown",
   "metadata": {},
   "source": [
    "# Box Office Success: A Statistical Approach\n",
    "![Cover](images/imag1.jpg)"
   ]
  },
  {
   "cell_type": "markdown",
   "metadata": {},
   "source": [
    "# Overview \n",
    "This project aims to help a company understand what types of films to produce as part of launching a new film studio. We will analyze data from multiple sources to formulate three concrete business recommendations."
   ]
  },
  {
   "cell_type": "markdown",
   "metadata": {},
   "source": [
    "# Business Understanding & Business Problem\n",
    "![Cover](images/imag2.jpg)\n",
    "Before investing in a first film, the company wants to minimize risk by relying on evidence, based analysis drawn from historical data. It seeks to understand which genres are the most profitable, whether a film’s duration impacts its revenue, whether highly rated films attract more viewers, if there's a link between popularity (measured by the number of votes) and financial success, or whether certain production formats, such as feature films, should be prioritized.\n",
    "\n",
    "This project aims to turn past data into future decisions by providing the studio with concrete and measurable insights to help it choose the right kind of films to produce.\n",
    "\n",
    "The business problem can be formulated as follows:  \n",
    "How can a new film production company maximize its chances of box office success by intelligently choosing the characteristics of the films it produces?  \n",
    "\n",
    "To address this question, it is necessary to:  \n",
    "\n",
    "- identify the factors statistically associated with financial success (e.g., revenue),\n",
    "\n",
    "- measure the strength of the relationships between these factors (duration, rating, genre, votes, etc.) and box office performance,\n",
    "\n",
    "- and formulate operational and strategic recommendations to guide the studio's early production decisions.\n",
    "\n"
   ]
  },
  {
   "cell_type": "markdown",
   "metadata": {},
   "source": [
    "# 1-Data Understanding \n",
    "To meet the objectives of the analysis, we rely on **three main data sources**:\n",
    "\n",
    "1. **Box Office Mojo (`bom.movie_gross.csv.gz`)** – This dataset provides essential financial information such as domestic and international gross revenue, movie titles, release groups, and studios.\n",
    "\n",
    "2. **The Numbers (`tn.movie_budgets.csv.gz`)** – This source adds **budget data**, including production budgets and total worldwide gross, enabling us to analyze the relationship between investment and return.\n",
    "\n",
    "3. **IMDb (`IMDb movies.csv` or equivalent)** – This dataset includes critical reception indicators such as **average viewer ratings**, **number of votes**, **genre**, **runtime**, and **type of film** (e.g., feature film, TV series).\n",
    "\n",
    "These datasets were merged based on relevant keys like the **movie title** and **release type**, providing an enriched and unified view of each film. This combined perspective allows us to study the **commercial performance**, **viewer perception**, and **production context** simultaneously.\n",
    "\n",
    "This understanding phase allows us to:\n",
    "- Identify relevant variables for the business problem (e.g., gross revenue, rating, budget, genre),\n",
    "- Evaluate data quality (missing values, duplicates, inconsistent formats),\n",
    "- Detect potential issues before deeper statistical analysis and modeling.\n",
    "\n"
   ]
  },
  {
   "cell_type": "markdown",
   "metadata": {},
   "source": [
    "## **1.1 Importing Required Libraries**"
   ]
  },
  {
   "cell_type": "code",
   "execution_count": 1,
   "metadata": {},
   "outputs": [],
   "source": [
    "import itertools\n",
    "import numpy as np\n",
    "import pandas as pd \n",
    "from numbers import Number\n",
    "import sqlite3\n",
    "from scipy import stats\n",
    "import statsmodels.api as smf\n",
    "import matplotlib.pyplot as plt\n",
    "import seaborn as sns\n",
    "import zipfile\n",
    "import os\n",
    "import warnings\n",
    "warnings.filterwarnings('ignore')\n",
    "\n",
    "import pickle"
   ]
  },
  {
   "cell_type": "markdown",
   "metadata": {},
   "source": [
    "## **1.2 Connect to the Database**"
   ]
  },
  {
   "cell_type": "code",
   "execution_count": 2,
   "metadata": {},
   "outputs": [],
   "source": [
    "conn = sqlite3.connect('data/im.db')"
   ]
  },
  {
   "cell_type": "markdown",
   "metadata": {},
   "source": [
    "## **1.3 tables in the database**"
   ]
  },
  {
   "cell_type": "code",
   "execution_count": 4,
   "metadata": {},
   "outputs": [
    {
     "data": {
      "text/html": [
       "<div>\n",
       "<style scoped>\n",
       "    .dataframe tbody tr th:only-of-type {\n",
       "        vertical-align: middle;\n",
       "    }\n",
       "\n",
       "    .dataframe tbody tr th {\n",
       "        vertical-align: top;\n",
       "    }\n",
       "\n",
       "    .dataframe thead th {\n",
       "        text-align: right;\n",
       "    }\n",
       "</style>\n",
       "<table border=\"1\" class=\"dataframe\">\n",
       "  <thead>\n",
       "    <tr style=\"text-align: right;\">\n",
       "      <th></th>\n",
       "      <th>type</th>\n",
       "      <th>name</th>\n",
       "      <th>tbl_name</th>\n",
       "      <th>rootpage</th>\n",
       "      <th>sql</th>\n",
       "    </tr>\n",
       "  </thead>\n",
       "  <tbody>\n",
       "    <tr>\n",
       "      <th>0</th>\n",
       "      <td>table</td>\n",
       "      <td>movie_basics</td>\n",
       "      <td>movie_basics</td>\n",
       "      <td>2</td>\n",
       "      <td>CREATE TABLE \"movie_basics\" (\\n\"movie_id\" TEXT...</td>\n",
       "    </tr>\n",
       "    <tr>\n",
       "      <th>1</th>\n",
       "      <td>table</td>\n",
       "      <td>directors</td>\n",
       "      <td>directors</td>\n",
       "      <td>3</td>\n",
       "      <td>CREATE TABLE \"directors\" (\\n\"movie_id\" TEXT,\\n...</td>\n",
       "    </tr>\n",
       "    <tr>\n",
       "      <th>2</th>\n",
       "      <td>table</td>\n",
       "      <td>known_for</td>\n",
       "      <td>known_for</td>\n",
       "      <td>4</td>\n",
       "      <td>CREATE TABLE \"known_for\" (\\n\"person_id\" TEXT,\\...</td>\n",
       "    </tr>\n",
       "    <tr>\n",
       "      <th>3</th>\n",
       "      <td>table</td>\n",
       "      <td>movie_akas</td>\n",
       "      <td>movie_akas</td>\n",
       "      <td>5</td>\n",
       "      <td>CREATE TABLE \"movie_akas\" (\\n\"movie_id\" TEXT,\\...</td>\n",
       "    </tr>\n",
       "    <tr>\n",
       "      <th>4</th>\n",
       "      <td>table</td>\n",
       "      <td>movie_ratings</td>\n",
       "      <td>movie_ratings</td>\n",
       "      <td>6</td>\n",
       "      <td>CREATE TABLE \"movie_ratings\" (\\n\"movie_id\" TEX...</td>\n",
       "    </tr>\n",
       "    <tr>\n",
       "      <th>5</th>\n",
       "      <td>table</td>\n",
       "      <td>persons</td>\n",
       "      <td>persons</td>\n",
       "      <td>7</td>\n",
       "      <td>CREATE TABLE \"persons\" (\\n\"person_id\" TEXT,\\n ...</td>\n",
       "    </tr>\n",
       "    <tr>\n",
       "      <th>6</th>\n",
       "      <td>table</td>\n",
       "      <td>principals</td>\n",
       "      <td>principals</td>\n",
       "      <td>8</td>\n",
       "      <td>CREATE TABLE \"principals\" (\\n\"movie_id\" TEXT,\\...</td>\n",
       "    </tr>\n",
       "    <tr>\n",
       "      <th>7</th>\n",
       "      <td>table</td>\n",
       "      <td>writers</td>\n",
       "      <td>writers</td>\n",
       "      <td>9</td>\n",
       "      <td>CREATE TABLE \"writers\" (\\n\"movie_id\" TEXT,\\n  ...</td>\n",
       "    </tr>\n",
       "  </tbody>\n",
       "</table>\n",
       "</div>"
      ],
      "text/plain": [
       "    type           name       tbl_name  rootpage  \\\n",
       "0  table   movie_basics   movie_basics         2   \n",
       "1  table      directors      directors         3   \n",
       "2  table      known_for      known_for         4   \n",
       "3  table     movie_akas     movie_akas         5   \n",
       "4  table  movie_ratings  movie_ratings         6   \n",
       "5  table        persons        persons         7   \n",
       "6  table     principals     principals         8   \n",
       "7  table        writers        writers         9   \n",
       "\n",
       "                                                 sql  \n",
       "0  CREATE TABLE \"movie_basics\" (\\n\"movie_id\" TEXT...  \n",
       "1  CREATE TABLE \"directors\" (\\n\"movie_id\" TEXT,\\n...  \n",
       "2  CREATE TABLE \"known_for\" (\\n\"person_id\" TEXT,\\...  \n",
       "3  CREATE TABLE \"movie_akas\" (\\n\"movie_id\" TEXT,\\...  \n",
       "4  CREATE TABLE \"movie_ratings\" (\\n\"movie_id\" TEX...  \n",
       "5  CREATE TABLE \"persons\" (\\n\"person_id\" TEXT,\\n ...  \n",
       "6  CREATE TABLE \"principals\" (\\n\"movie_id\" TEXT,\\...  \n",
       "7  CREATE TABLE \"writers\" (\\n\"movie_id\" TEXT,\\n  ...  "
      ]
     },
     "execution_count": 4,
     "metadata": {},
     "output_type": "execute_result"
    }
   ],
   "source": [
    "df = pd.read_sql(\n",
    "    \"\"\"\n",
    "    SELECT *\n",
    "    FROM sqlite_master\n",
    "    \"\"\"\n",
    ", conn\n",
    ")\n",
    "\n",
    "df[df['type'] == 'table']"
   ]
  },
  {
   "cell_type": "markdown",
   "metadata": {},
   "source": [
    "## 1.4 📥 Loading Financial Data"
   ]
  },
  {
   "cell_type": "code",
   "execution_count": 7,
   "metadata": {},
   "outputs": [],
   "source": [
    "# 📥 Loading The Numbers data (production budgets and worldwide revenues)\n",
    "df1= pd.read_csv(\"data/tn.movie_budgets.csv.gz\", encoding=\"ISO-8859-1\", low_memory=False)"
   ]
  },
  {
   "cell_type": "markdown",
   "metadata": {},
   "source": [
    "## 🔎 Initial Exploration and Data Quality Assessment(movie_budgets)"
   ]
  },
  {
   "cell_type": "code",
   "execution_count": 8,
   "metadata": {},
   "outputs": [
    {
     "data": {
      "text/html": [
       "<div>\n",
       "<style scoped>\n",
       "    .dataframe tbody tr th:only-of-type {\n",
       "        vertical-align: middle;\n",
       "    }\n",
       "\n",
       "    .dataframe tbody tr th {\n",
       "        vertical-align: top;\n",
       "    }\n",
       "\n",
       "    .dataframe thead th {\n",
       "        text-align: right;\n",
       "    }\n",
       "</style>\n",
       "<table border=\"1\" class=\"dataframe\">\n",
       "  <thead>\n",
       "    <tr style=\"text-align: right;\">\n",
       "      <th></th>\n",
       "      <th>id</th>\n",
       "      <th>release_date</th>\n",
       "      <th>movie</th>\n",
       "      <th>production_budget</th>\n",
       "      <th>domestic_gross</th>\n",
       "      <th>worldwide_gross</th>\n",
       "    </tr>\n",
       "  </thead>\n",
       "  <tbody>\n",
       "    <tr>\n",
       "      <th>0</th>\n",
       "      <td>1</td>\n",
       "      <td>Dec 18, 2009</td>\n",
       "      <td>Avatar</td>\n",
       "      <td>$425,000,000</td>\n",
       "      <td>$760,507,625</td>\n",
       "      <td>$2,776,345,279</td>\n",
       "    </tr>\n",
       "    <tr>\n",
       "      <th>1</th>\n",
       "      <td>2</td>\n",
       "      <td>May 20, 2011</td>\n",
       "      <td>Pirates of the Caribbean: On Stranger Tides</td>\n",
       "      <td>$410,600,000</td>\n",
       "      <td>$241,063,875</td>\n",
       "      <td>$1,045,663,875</td>\n",
       "    </tr>\n",
       "    <tr>\n",
       "      <th>2</th>\n",
       "      <td>3</td>\n",
       "      <td>Jun 7, 2019</td>\n",
       "      <td>Dark Phoenix</td>\n",
       "      <td>$350,000,000</td>\n",
       "      <td>$42,762,350</td>\n",
       "      <td>$149,762,350</td>\n",
       "    </tr>\n",
       "    <tr>\n",
       "      <th>3</th>\n",
       "      <td>4</td>\n",
       "      <td>May 1, 2015</td>\n",
       "      <td>Avengers: Age of Ultron</td>\n",
       "      <td>$330,600,000</td>\n",
       "      <td>$459,005,868</td>\n",
       "      <td>$1,403,013,963</td>\n",
       "    </tr>\n",
       "    <tr>\n",
       "      <th>4</th>\n",
       "      <td>5</td>\n",
       "      <td>Dec 15, 2017</td>\n",
       "      <td>Star Wars Ep. VIII: The Last Jedi</td>\n",
       "      <td>$317,000,000</td>\n",
       "      <td>$620,181,382</td>\n",
       "      <td>$1,316,721,747</td>\n",
       "    </tr>\n",
       "  </tbody>\n",
       "</table>\n",
       "</div>"
      ],
      "text/plain": [
       "   id  release_date                                        movie  \\\n",
       "0   1  Dec 18, 2009                                       Avatar   \n",
       "1   2  May 20, 2011  Pirates of the Caribbean: On Stranger Tides   \n",
       "2   3   Jun 7, 2019                                 Dark Phoenix   \n",
       "3   4   May 1, 2015                      Avengers: Age of Ultron   \n",
       "4   5  Dec 15, 2017            Star Wars Ep. VIII: The Last Jedi   \n",
       "\n",
       "  production_budget domestic_gross worldwide_gross  \n",
       "0      $425,000,000   $760,507,625  $2,776,345,279  \n",
       "1      $410,600,000   $241,063,875  $1,045,663,875  \n",
       "2      $350,000,000    $42,762,350    $149,762,350  \n",
       "3      $330,600,000   $459,005,868  $1,403,013,963  \n",
       "4      $317,000,000   $620,181,382  $1,316,721,747  "
      ]
     },
     "execution_count": 8,
     "metadata": {},
     "output_type": "execute_result"
    }
   ],
   "source": [
    "#Display the first 5 rows of the dataset\n",
    "df1.head(5)"
   ]
  },
  {
   "cell_type": "code",
   "execution_count": 9,
   "metadata": {},
   "outputs": [
    {
     "data": {
      "text/plain": [
       "Index(['id', 'release_date', 'movie', 'production_budget', 'domestic_gross',\n",
       "       'worldwide_gross'],\n",
       "      dtype='object')"
      ]
     },
     "execution_count": 9,
     "metadata": {},
     "output_type": "execute_result"
    }
   ],
   "source": [
    "#Display the names of all available columns in the DataFrame\n",
    "df1.columns"
   ]
  },
  {
   "cell_type": "code",
   "execution_count": 10,
   "metadata": {},
   "outputs": [
    {
     "data": {
      "text/plain": [
       "(5782, 6)"
      ]
     },
     "execution_count": 10,
     "metadata": {},
     "output_type": "execute_result"
    }
   ],
   "source": [
    "#Display the number of rows and columns in the dataset\n",
    "df1.shape"
   ]
  },
  {
   "cell_type": "code",
   "execution_count": 11,
   "metadata": {},
   "outputs": [
    {
     "data": {
      "text/plain": [
       "worldwide_gross      0\n",
       "domestic_gross       0\n",
       "production_budget    0\n",
       "movie                0\n",
       "release_date         0\n",
       "id                   0\n",
       "dtype: int64"
      ]
     },
     "execution_count": 11,
     "metadata": {},
     "output_type": "execute_result"
    }
   ],
   "source": [
    "#Display the number of missing values per column, sorted in descending order\n",
    "df1.isnull().sum().sort_values(ascending=False)"
   ]
  },
  {
   "cell_type": "code",
   "execution_count": 12,
   "metadata": {},
   "outputs": [
    {
     "data": {
      "text/plain": [
       "0"
      ]
     },
     "execution_count": 12,
     "metadata": {},
     "output_type": "execute_result"
    }
   ],
   "source": [
    "#Check how many rows are completely duplicated in the DataFrame\n",
    "df1.duplicated().sum()"
   ]
  },
  {
   "cell_type": "markdown",
   "metadata": {},
   "source": [
    "The dataset from The Numbers (df1) contains 5,782 entries and 6 columns, including movie ID, release date, movie title, production budget, domestic gross, and worldwide gross. df1 is complete with no missing values or duplicate rows, ensuring high data integrity. It provides detailed financial information covering both the production costs and the box office revenues at domestic and global levels. This makes df1 a valuable source for analyzing the profitability and financial performance of films."
   ]
  },
  {
   "cell_type": "markdown",
   "metadata": {},
   "source": [
    "# 2-Data Preparation "
   ]
  },
  {
   "cell_type": "markdown",
   "metadata": {},
   "source": [
    "## Cleaning and Enriching df1"
   ]
  },
  {
   "cell_type": "code",
   "execution_count": 13,
   "metadata": {},
   "outputs": [],
   "source": [
    "# Remove dollar signs and commas, then convert to integers\n",
    "columns_to_clean = ['production_budget', 'domestic_gross', 'worldwide_gross']\n",
    "for col in columns_to_clean:\n",
    "    df1[col] = df1[col].replace('[\\$,]', '', regex=True).astype('int64')\n",
    "\n",
    "# Create foreign_gross = worldwide_gross - domestic_gross\n",
    "df1['foreign_gross'] = df1['worldwide_gross'] - df1['domestic_gross']\n",
    "\n",
    "# Add a 'profit' column by calculating the difference\n",
    "df1['profit'] = df1['worldwide_gross'] - df1['production_budget']\n",
    "\n",
    "\n",
    "# Convert release_date to datetime\n",
    "df1['release_date'] = pd.to_datetime(df1['release_date'])\n",
    "\n",
    "# Extract year from release_date\n",
    "df1['year'] = df1['release_date'].dt.year\n",
    "\n",
    "# Extract the month from the release date\n",
    "df1['month'] = df1['release_date'].dt.month\n",
    "\n",
    "# Define a function to map months to seasons\n",
    "def get_season(month):\n",
    "    if month in [12, 1, 2]:\n",
    "        return 'Winter'\n",
    "    elif month in [3, 4, 5]:\n",
    "        return 'Spring'\n",
    "    elif month in [6, 7, 8]:\n",
    "        return 'Summer'\n",
    "    elif month in [9, 10, 11]:\n",
    "        return 'Autumn'\n",
    "    else:\n",
    "        return 'Unknown'\n",
    "\n",
    "# Create the 'season' column using the mapping function\n",
    "df1['season'] = df1['month'].apply(get_season)"
   ]
  },
  {
   "cell_type": "markdown",
   "metadata": {},
   "source": [
    "# 2.1-IMDB Dataset"
   ]
  },
  {
   "cell_type": "markdown",
   "metadata": {},
   "source": [
    "![cover](images/imag3.jpeg)"
   ]
  },
  {
   "cell_type": "markdown",
   "metadata": {},
   "source": [
    "To enrich the financial analysis of films, we leverage the `IMDB` database, renowned for its rich information on cinema. Among the various available tables, we have selected `movie_basics` and `movie_ratings`, two central tables for our problem. The `movie_basics` table contains key descriptive information about films, such as unique identifiers, title, release year, genre, and film type. These data are essential to characterize each film and understand its context. The `movie_ratings` table provides critical data, including the average viewer rating and the number of votes, which are important indicators of a film’s popularity and perceived quality. By combining these two sources via the film identifier, we obtain a comprehensive dataset that allows us to study not only financial performance (from other sources) but also critical reception and audience appeal. This choice aligns with our project’s objective: to identify which factors related to film characteristics and popularity influence box-office success, thereby guiding the decisions of a new studio."
   ]
  },
  {
   "cell_type": "markdown",
   "metadata": {},
   "source": [
    "## 📋 Sample Query and Preview of `movie_basics` Table"
   ]
  },
  {
   "cell_type": "code",
   "execution_count": 14,
   "metadata": {},
   "outputs": [
    {
     "data": {
      "text/html": [
       "<div>\n",
       "<style scoped>\n",
       "    .dataframe tbody tr th:only-of-type {\n",
       "        vertical-align: middle;\n",
       "    }\n",
       "\n",
       "    .dataframe tbody tr th {\n",
       "        vertical-align: top;\n",
       "    }\n",
       "\n",
       "    .dataframe thead th {\n",
       "        text-align: right;\n",
       "    }\n",
       "</style>\n",
       "<table border=\"1\" class=\"dataframe\">\n",
       "  <thead>\n",
       "    <tr style=\"text-align: right;\">\n",
       "      <th></th>\n",
       "      <th>movie_id</th>\n",
       "      <th>primary_title</th>\n",
       "      <th>original_title</th>\n",
       "      <th>start_year</th>\n",
       "      <th>runtime_minutes</th>\n",
       "      <th>genres</th>\n",
       "    </tr>\n",
       "  </thead>\n",
       "  <tbody>\n",
       "    <tr>\n",
       "      <th>0</th>\n",
       "      <td>tt0063540</td>\n",
       "      <td>Sunghursh</td>\n",
       "      <td>Sunghursh</td>\n",
       "      <td>2013</td>\n",
       "      <td>175.0</td>\n",
       "      <td>Action,Crime,Drama</td>\n",
       "    </tr>\n",
       "    <tr>\n",
       "      <th>1</th>\n",
       "      <td>tt0066787</td>\n",
       "      <td>One Day Before the Rainy Season</td>\n",
       "      <td>Ashad Ka Ek Din</td>\n",
       "      <td>2019</td>\n",
       "      <td>114.0</td>\n",
       "      <td>Biography,Drama</td>\n",
       "    </tr>\n",
       "    <tr>\n",
       "      <th>2</th>\n",
       "      <td>tt0069049</td>\n",
       "      <td>The Other Side of the Wind</td>\n",
       "      <td>The Other Side of the Wind</td>\n",
       "      <td>2018</td>\n",
       "      <td>122.0</td>\n",
       "      <td>Drama</td>\n",
       "    </tr>\n",
       "    <tr>\n",
       "      <th>3</th>\n",
       "      <td>tt0069204</td>\n",
       "      <td>Sabse Bada Sukh</td>\n",
       "      <td>Sabse Bada Sukh</td>\n",
       "      <td>2018</td>\n",
       "      <td>NaN</td>\n",
       "      <td>Comedy,Drama</td>\n",
       "    </tr>\n",
       "    <tr>\n",
       "      <th>4</th>\n",
       "      <td>tt0100275</td>\n",
       "      <td>The Wandering Soap Opera</td>\n",
       "      <td>La Telenovela Errante</td>\n",
       "      <td>2017</td>\n",
       "      <td>80.0</td>\n",
       "      <td>Comedy,Drama,Fantasy</td>\n",
       "    </tr>\n",
       "  </tbody>\n",
       "</table>\n",
       "</div>"
      ],
      "text/plain": [
       "    movie_id                    primary_title              original_title  \\\n",
       "0  tt0063540                        Sunghursh                   Sunghursh   \n",
       "1  tt0066787  One Day Before the Rainy Season             Ashad Ka Ek Din   \n",
       "2  tt0069049       The Other Side of the Wind  The Other Side of the Wind   \n",
       "3  tt0069204                  Sabse Bada Sukh             Sabse Bada Sukh   \n",
       "4  tt0100275         The Wandering Soap Opera       La Telenovela Errante   \n",
       "\n",
       "   start_year  runtime_minutes                genres  \n",
       "0        2013            175.0    Action,Crime,Drama  \n",
       "1        2019            114.0       Biography,Drama  \n",
       "2        2018            122.0                 Drama  \n",
       "3        2018              NaN          Comedy,Drama  \n",
       "4        2017             80.0  Comedy,Drama,Fantasy  "
      ]
     },
     "execution_count": 14,
     "metadata": {},
     "output_type": "execute_result"
    }
   ],
   "source": [
    "# Execute a SQL query to retrieve the all rows from the 'movie_basics' table\n",
    "query1 = \"\"\"SELECT * FROM movie_basics;\"\"\"\n",
    "\n",
    "# Load the query results into a pandas DataFrame\n",
    "df_basics = pd.read_sql_query(query1, conn)\n",
    "\n",
    "# Display the first 5 rows of the DataFrame\n",
    "df_basics.head()"
   ]
  },
  {
   "cell_type": "code",
   "execution_count": 15,
   "metadata": {},
   "outputs": [
    {
     "name": "stdout",
     "output_type": "stream",
     "text": [
      "The names of all available columns: Index(['movie_id', 'primary_title', 'original_title', 'start_year',\n",
      "       'runtime_minutes', 'genres'],\n",
      "      dtype='object')\n",
      "The number of rows and columns: (146144, 6)\n"
     ]
    }
   ],
   "source": [
    "#Display the names of all available columns in the DataFrame\n",
    "print(f\"The names of all available columns: {df_basics.columns}\")\n",
    "\n",
    "#Display the number of rows and columns in the dataset\n",
    "print(f\"The number of rows and columns: {df_basics.shape}\")"
   ]
  },
  {
   "cell_type": "code",
   "execution_count": 16,
   "metadata": {},
   "outputs": [
    {
     "name": "stdout",
     "output_type": "stream",
     "text": [
      "The number of missing values per column:\n",
      "runtime_minutes    31739\n",
      "genres              5408\n",
      "original_title        21\n",
      "start_year             0\n",
      "primary_title          0\n",
      "movie_id               0\n",
      "dtype: int64\n",
      "Number of duplicated rows: 0\n"
     ]
    }
   ],
   "source": [
    "#Display the number of missing values per column, sorted in descending order\n",
    "print(\"The number of missing values per column:\")\n",
    "print(df_basics.isnull().sum().sort_values(ascending=False))\n",
    "\n",
    "#Check how many rows are completely duplicated in the DataFrame\n",
    "print(f\"Number of duplicated rows: {df_basics.duplicated().sum()}\")"
   ]
  },
  {
   "cell_type": "markdown",
   "metadata": {},
   "source": [
    "The movie_basics table contains essential descriptive information on 146,144 films, with six key columns: a unique identifier (movie_id), the primary title (primary_title), the original title (original_title), the release year (start_year), the runtime in minutes (runtime_minutes), and the associated genres (genres). A simple SQL query allows retrieving all this data into a pandas DataFrame for exploration. Initial analysis reveals some missing values, notably for the runtime (31,739 null entries) and genres (5,408 null entries), while the other columns are complete. No full duplicates were detected in this table, ensuring data integrity. This overview helps better understand the structure and quality of the available data, which is an essential prerequisite before any deeper analysis."
   ]
  },
  {
   "cell_type": "markdown",
   "metadata": {},
   "source": [
    "## 📋 Sample Query and Preview of `movie_ratings` Table"
   ]
  },
  {
   "cell_type": "code",
   "execution_count": 17,
   "metadata": {},
   "outputs": [
    {
     "data": {
      "text/html": [
       "<div>\n",
       "<style scoped>\n",
       "    .dataframe tbody tr th:only-of-type {\n",
       "        vertical-align: middle;\n",
       "    }\n",
       "\n",
       "    .dataframe tbody tr th {\n",
       "        vertical-align: top;\n",
       "    }\n",
       "\n",
       "    .dataframe thead th {\n",
       "        text-align: right;\n",
       "    }\n",
       "</style>\n",
       "<table border=\"1\" class=\"dataframe\">\n",
       "  <thead>\n",
       "    <tr style=\"text-align: right;\">\n",
       "      <th></th>\n",
       "      <th>movie_id</th>\n",
       "      <th>averagerating</th>\n",
       "      <th>numvotes</th>\n",
       "    </tr>\n",
       "  </thead>\n",
       "  <tbody>\n",
       "    <tr>\n",
       "      <th>0</th>\n",
       "      <td>tt10356526</td>\n",
       "      <td>8.3</td>\n",
       "      <td>31</td>\n",
       "    </tr>\n",
       "    <tr>\n",
       "      <th>1</th>\n",
       "      <td>tt10384606</td>\n",
       "      <td>8.9</td>\n",
       "      <td>559</td>\n",
       "    </tr>\n",
       "    <tr>\n",
       "      <th>2</th>\n",
       "      <td>tt1042974</td>\n",
       "      <td>6.4</td>\n",
       "      <td>20</td>\n",
       "    </tr>\n",
       "    <tr>\n",
       "      <th>3</th>\n",
       "      <td>tt1043726</td>\n",
       "      <td>4.2</td>\n",
       "      <td>50352</td>\n",
       "    </tr>\n",
       "    <tr>\n",
       "      <th>4</th>\n",
       "      <td>tt1060240</td>\n",
       "      <td>6.5</td>\n",
       "      <td>21</td>\n",
       "    </tr>\n",
       "  </tbody>\n",
       "</table>\n",
       "</div>"
      ],
      "text/plain": [
       "     movie_id  averagerating  numvotes\n",
       "0  tt10356526            8.3        31\n",
       "1  tt10384606            8.9       559\n",
       "2   tt1042974            6.4        20\n",
       "3   tt1043726            4.2     50352\n",
       "4   tt1060240            6.5        21"
      ]
     },
     "execution_count": 17,
     "metadata": {},
     "output_type": "execute_result"
    }
   ],
   "source": [
    "# Execute a SQL query to retrieve the all rows from the 'movie_ratings' table\n",
    "query2 = \"\"\"SELECT * FROM movie_ratings;\"\"\"\n",
    "\n",
    "# Load the query results into a pandas DataFrame\n",
    "df_ratings = pd.read_sql_query(query2, conn)\n",
    "\n",
    "# Display the first 5 rows of the DataFrame\n",
    "df_ratings.head()"
   ]
  },
  {
   "cell_type": "code",
   "execution_count": 18,
   "metadata": {},
   "outputs": [
    {
     "name": "stdout",
     "output_type": "stream",
     "text": [
      "The names of all available columns: Index(['movie_id', 'averagerating', 'numvotes'], dtype='object')\n",
      "The number of rows and columns: (73856, 3)\n"
     ]
    }
   ],
   "source": [
    "#Display the names of all available columns in the DataFrame\n",
    "print(f\"The names of all available columns: {df_ratings.columns}\")\n",
    "\n",
    "#Display the number of rows and columns in the dataset\n",
    "print(f\"The number of rows and columns: {df_ratings.shape}\")"
   ]
  },
  {
   "cell_type": "code",
   "execution_count": 19,
   "metadata": {},
   "outputs": [
    {
     "name": "stdout",
     "output_type": "stream",
     "text": [
      "The number of missing values per column:\n",
      "numvotes         0\n",
      "averagerating    0\n",
      "movie_id         0\n",
      "dtype: int64\n",
      "The number of duplicated rows: 0\n"
     ]
    }
   ],
   "source": [
    "#Display the number of missing values per column, sorted in descending order\n",
    "print(\"The number of missing values per column:\")\n",
    "print(df_ratings.isnull().sum().sort_values(ascending=False))\n",
    "\n",
    "#Check how many rows are completely duplicated in the DataFrame\n",
    "print(f\"The number of duplicated rows: {df_ratings.duplicated().sum()}\")"
   ]
  },
  {
   "cell_type": "markdown",
   "metadata": {},
   "source": [
    "The movie_ratings table provides critical information on the reception of films, with a total of 73,856 entries covering three columns: the movie identifier (movie_id), the average user rating (averagerating), and the total number of votes (numvotes). A full extraction via SQL allows loading this data into a pandas DataFrame for thorough exploration. Initial inspection shows that this table contains no missing values or duplicates, thus ensuring data reliability for subsequent analyses. This information is essential to study the impact of a film’s popularity and perceived quality on its commercial success."
   ]
  },
  {
   "cell_type": "markdown",
   "metadata": {},
   "source": [
    "## Cleaning Invalid Values in Categorical Variables (`genres` and `original_title`)\n"
   ]
  },
  {
   "cell_type": "code",
   "execution_count": 20,
   "metadata": {},
   "outputs": [
    {
     "data": {
      "text/plain": [
       "movie_id               0\n",
       "primary_title          0\n",
       "original_title        21\n",
       "start_year             0\n",
       "runtime_minutes    31739\n",
       "genres                 0\n",
       "dtype: int64"
      ]
     },
     "execution_count": 20,
     "metadata": {},
     "output_type": "execute_result"
    }
   ],
   "source": [
    "categorical_cols = ['genres']\n",
    "\n",
    "\n",
    "invalid_values = ['Unknown', 'Unavailable', 'None', 'UNK', 'unknown', 'ANAVAILABLE', 'NONE', 'none',\\\n",
    "                 'unk', 'n/a', 'N/A', 'Unk', 'UNKNOWN','']\n",
    "\n",
    "for col in categorical_cols:\n",
    "    mode = df_basics[col].mode()[0]\n",
    "    df_basics[col] = df_basics[col].replace(invalid_values, np.nan)\n",
    "    df_basics[col].fillna(mode, inplace=True) \n",
    "    \n",
    "df_basics.isnull().sum()"
   ]
  },
  {
   "cell_type": "markdown",
   "metadata": {},
   "source": [
    "## Imputation of missing values for numerical variable**"
   ]
  },
  {
   "cell_type": "code",
   "execution_count": 21,
   "metadata": {},
   "outputs": [
    {
     "data": {
      "text/plain": [
       "movie_id            0\n",
       "primary_title       0\n",
       "original_title     21\n",
       "start_year          0\n",
       "runtime_minutes     0\n",
       "genres              0\n",
       "dtype: int64"
      ]
     },
     "execution_count": 21,
     "metadata": {},
     "output_type": "execute_result"
    }
   ],
   "source": [
    "# Fill missing 'runtime_minutes' values within each genre group using the median runtime of that genre\n",
    "df_basics['runtime_minutes'] = df_basics.groupby('genres')['runtime_minutes'].transform(lambda x: x.fillna(x.median()))\n",
    "\n",
    "# For any remaining missing values in 'runtime_minutes' (e.g., genres with all missing runtimes), fill with the overall median runtime\n",
    "df_basics['runtime_minutes'] = df_basics['runtime_minutes'].fillna(df_basics['runtime_minutes'].median())\n",
    "\n",
    "# Display the count of missing values per column after imputation\n",
    "df_basics.isnull().sum()\n"
   ]
  },
  {
   "cell_type": "markdown",
   "metadata": {},
   "source": [
    "The runtime_minutes column initially contained many missing values (31,739), which we addressed using a two-step imputation: first, by filling missing values with the median runtime within each genre to preserve genre-specific characteristics; then, by using the overall median for any remaining cases. As for the original_title column, it had 21 missing values, but these are not truly missing since they are available in the df1 table and can be retrieved via the movie_id key. Thus, no imputation is required, and data integrity is maintained through cross-referencing."
   ]
  },
  {
   "cell_type": "markdown",
   "metadata": {},
   "source": [
    "## Data Integration: Merging Financial, Descriptive, and Rating Datasets"
   ]
  },
  {
   "cell_type": "code",
   "execution_count": 22,
   "metadata": {},
   "outputs": [],
   "source": [
    "import re\n",
    "\n",
    "# Function to normalize movie titles by lowercasing, removing punctuation and extra spaces\n",
    "def normalize_title(title):\n",
    "    if pd.isna(title):\n",
    "        return \"\"  # Return empty string if the title is missing\n",
    "    title = title.lower()                    # Convert to lowercase\n",
    "    title = re.sub(r'[^\\w\\s]', '', title)    # Remove punctuation\n",
    "    title = re.sub(r'\\s+', ' ', title)       # Replace multiple spaces with a single space\n",
    "    title = title.strip()                    # Remove leading and trailing spaces\n",
    "    return title\n",
    "\n",
    "# Apply normalization to movie titles in both DataFrames\n",
    "df1['movie_norm'] = df1['movie'].apply(normalize_title)\n",
    "df_basics['primary_title_norm'] = df_basics['primary_title'].apply(normalize_title)"
   ]
  },
  {
   "cell_type": "code",
   "execution_count": 23,
   "metadata": {},
   "outputs": [
    {
     "name": "stdout",
     "output_type": "stream",
     "text": [
      "Number of films after merging df1 and movie_basics: 4002\n"
     ]
    }
   ],
   "source": [
    "df_merged = pd.merge(df1, df_basics,\n",
    "                     left_on='movie_norm',\n",
    "                     right_on='primary_title_norm',\n",
    "                     how='inner',   # keep only exact matches\n",
    "                     suffixes=('_df1', '_basics'))\n",
    "\n",
    "print(f\"Number of films after merging df1 and movie_basics: {df_merged.shape[0]}\")"
   ]
  },
  {
   "cell_type": "code",
   "execution_count": 24,
   "metadata": {},
   "outputs": [
    {
     "name": "stdout",
     "output_type": "stream",
     "text": [
      "Number of films after merging with movie_ratings: 3006\n"
     ]
    }
   ],
   "source": [
    "df_final = pd.merge(df_merged, df_ratings,\n",
    "                    left_on='movie_id',\n",
    "                    right_on='movie_id',\n",
    "                    how='inner')  # keep only films present in both datasets\n",
    "\n",
    "print(f\"Number of films after merging with movie_ratings: {df_final.shape[0]}\")"
   ]
  },
  {
   "cell_type": "code",
   "execution_count": 25,
   "metadata": {},
   "outputs": [
    {
     "data": {
      "text/html": [
       "<div>\n",
       "<style scoped>\n",
       "    .dataframe tbody tr th:only-of-type {\n",
       "        vertical-align: middle;\n",
       "    }\n",
       "\n",
       "    .dataframe tbody tr th {\n",
       "        vertical-align: top;\n",
       "    }\n",
       "\n",
       "    .dataframe thead th {\n",
       "        text-align: right;\n",
       "    }\n",
       "</style>\n",
       "<table border=\"1\" class=\"dataframe\">\n",
       "  <thead>\n",
       "    <tr style=\"text-align: right;\">\n",
       "      <th></th>\n",
       "      <th>id</th>\n",
       "      <th>release_date</th>\n",
       "      <th>movie</th>\n",
       "      <th>production_budget</th>\n",
       "      <th>domestic_gross</th>\n",
       "      <th>worldwide_gross</th>\n",
       "      <th>foreign_gross</th>\n",
       "      <th>profit</th>\n",
       "      <th>year</th>\n",
       "      <th>month</th>\n",
       "      <th>...</th>\n",
       "      <th>movie_norm</th>\n",
       "      <th>movie_id</th>\n",
       "      <th>primary_title</th>\n",
       "      <th>original_title</th>\n",
       "      <th>start_year</th>\n",
       "      <th>runtime_minutes</th>\n",
       "      <th>genres</th>\n",
       "      <th>primary_title_norm</th>\n",
       "      <th>averagerating</th>\n",
       "      <th>numvotes</th>\n",
       "    </tr>\n",
       "  </thead>\n",
       "  <tbody>\n",
       "    <tr>\n",
       "      <th>0</th>\n",
       "      <td>1</td>\n",
       "      <td>2009-12-18</td>\n",
       "      <td>Avatar</td>\n",
       "      <td>425000000</td>\n",
       "      <td>760507625</td>\n",
       "      <td>2776345279</td>\n",
       "      <td>2015837654</td>\n",
       "      <td>2351345279</td>\n",
       "      <td>2009</td>\n",
       "      <td>12</td>\n",
       "      <td>...</td>\n",
       "      <td>avatar</td>\n",
       "      <td>tt1775309</td>\n",
       "      <td>Avatar</td>\n",
       "      <td>Abatâ</td>\n",
       "      <td>2011</td>\n",
       "      <td>93.0</td>\n",
       "      <td>Horror</td>\n",
       "      <td>avatar</td>\n",
       "      <td>6.1</td>\n",
       "      <td>43</td>\n",
       "    </tr>\n",
       "    <tr>\n",
       "      <th>1</th>\n",
       "      <td>2</td>\n",
       "      <td>2011-05-20</td>\n",
       "      <td>Pirates of the Caribbean: On Stranger Tides</td>\n",
       "      <td>410600000</td>\n",
       "      <td>241063875</td>\n",
       "      <td>1045663875</td>\n",
       "      <td>804600000</td>\n",
       "      <td>635063875</td>\n",
       "      <td>2011</td>\n",
       "      <td>5</td>\n",
       "      <td>...</td>\n",
       "      <td>pirates of the caribbean on stranger tides</td>\n",
       "      <td>tt1298650</td>\n",
       "      <td>Pirates of the Caribbean: On Stranger Tides</td>\n",
       "      <td>Pirates of the Caribbean: On Stranger Tides</td>\n",
       "      <td>2011</td>\n",
       "      <td>136.0</td>\n",
       "      <td>Action,Adventure,Fantasy</td>\n",
       "      <td>pirates of the caribbean on stranger tides</td>\n",
       "      <td>6.6</td>\n",
       "      <td>447624</td>\n",
       "    </tr>\n",
       "    <tr>\n",
       "      <th>2</th>\n",
       "      <td>3</td>\n",
       "      <td>2019-06-07</td>\n",
       "      <td>Dark Phoenix</td>\n",
       "      <td>350000000</td>\n",
       "      <td>42762350</td>\n",
       "      <td>149762350</td>\n",
       "      <td>107000000</td>\n",
       "      <td>-200237650</td>\n",
       "      <td>2019</td>\n",
       "      <td>6</td>\n",
       "      <td>...</td>\n",
       "      <td>dark phoenix</td>\n",
       "      <td>tt6565702</td>\n",
       "      <td>Dark Phoenix</td>\n",
       "      <td>Dark Phoenix</td>\n",
       "      <td>2019</td>\n",
       "      <td>113.0</td>\n",
       "      <td>Action,Adventure,Sci-Fi</td>\n",
       "      <td>dark phoenix</td>\n",
       "      <td>6.0</td>\n",
       "      <td>24451</td>\n",
       "    </tr>\n",
       "    <tr>\n",
       "      <th>3</th>\n",
       "      <td>4</td>\n",
       "      <td>2015-05-01</td>\n",
       "      <td>Avengers: Age of Ultron</td>\n",
       "      <td>330600000</td>\n",
       "      <td>459005868</td>\n",
       "      <td>1403013963</td>\n",
       "      <td>944008095</td>\n",
       "      <td>1072413963</td>\n",
       "      <td>2015</td>\n",
       "      <td>5</td>\n",
       "      <td>...</td>\n",
       "      <td>avengers age of ultron</td>\n",
       "      <td>tt2395427</td>\n",
       "      <td>Avengers: Age of Ultron</td>\n",
       "      <td>Avengers: Age of Ultron</td>\n",
       "      <td>2015</td>\n",
       "      <td>141.0</td>\n",
       "      <td>Action,Adventure,Sci-Fi</td>\n",
       "      <td>avengers age of ultron</td>\n",
       "      <td>7.3</td>\n",
       "      <td>665594</td>\n",
       "    </tr>\n",
       "    <tr>\n",
       "      <th>4</th>\n",
       "      <td>7</td>\n",
       "      <td>2018-04-27</td>\n",
       "      <td>Avengers: Infinity War</td>\n",
       "      <td>300000000</td>\n",
       "      <td>678815482</td>\n",
       "      <td>2048134200</td>\n",
       "      <td>1369318718</td>\n",
       "      <td>1748134200</td>\n",
       "      <td>2018</td>\n",
       "      <td>4</td>\n",
       "      <td>...</td>\n",
       "      <td>avengers infinity war</td>\n",
       "      <td>tt4154756</td>\n",
       "      <td>Avengers: Infinity War</td>\n",
       "      <td>Avengers: Infinity War</td>\n",
       "      <td>2018</td>\n",
       "      <td>149.0</td>\n",
       "      <td>Action,Adventure,Sci-Fi</td>\n",
       "      <td>avengers infinity war</td>\n",
       "      <td>8.5</td>\n",
       "      <td>670926</td>\n",
       "    </tr>\n",
       "  </tbody>\n",
       "</table>\n",
       "<p>5 rows × 21 columns</p>\n",
       "</div>"
      ],
      "text/plain": [
       "   id release_date                                        movie  \\\n",
       "0   1   2009-12-18                                       Avatar   \n",
       "1   2   2011-05-20  Pirates of the Caribbean: On Stranger Tides   \n",
       "2   3   2019-06-07                                 Dark Phoenix   \n",
       "3   4   2015-05-01                      Avengers: Age of Ultron   \n",
       "4   7   2018-04-27                       Avengers: Infinity War   \n",
       "\n",
       "   production_budget  domestic_gross  worldwide_gross  foreign_gross  \\\n",
       "0          425000000       760507625       2776345279     2015837654   \n",
       "1          410600000       241063875       1045663875      804600000   \n",
       "2          350000000        42762350        149762350      107000000   \n",
       "3          330600000       459005868       1403013963      944008095   \n",
       "4          300000000       678815482       2048134200     1369318718   \n",
       "\n",
       "       profit  year  month  ...                                  movie_norm  \\\n",
       "0  2351345279  2009     12  ...                                      avatar   \n",
       "1   635063875  2011      5  ...  pirates of the caribbean on stranger tides   \n",
       "2  -200237650  2019      6  ...                                dark phoenix   \n",
       "3  1072413963  2015      5  ...                      avengers age of ultron   \n",
       "4  1748134200  2018      4  ...                       avengers infinity war   \n",
       "\n",
       "    movie_id                                primary_title  \\\n",
       "0  tt1775309                                       Avatar   \n",
       "1  tt1298650  Pirates of the Caribbean: On Stranger Tides   \n",
       "2  tt6565702                                 Dark Phoenix   \n",
       "3  tt2395427                      Avengers: Age of Ultron   \n",
       "4  tt4154756                       Avengers: Infinity War   \n",
       "\n",
       "                                original_title start_year  runtime_minutes  \\\n",
       "0                                        Abatâ       2011             93.0   \n",
       "1  Pirates of the Caribbean: On Stranger Tides       2011            136.0   \n",
       "2                                 Dark Phoenix       2019            113.0   \n",
       "3                      Avengers: Age of Ultron       2015            141.0   \n",
       "4                       Avengers: Infinity War       2018            149.0   \n",
       "\n",
       "                     genres                          primary_title_norm  \\\n",
       "0                    Horror                                      avatar   \n",
       "1  Action,Adventure,Fantasy  pirates of the caribbean on stranger tides   \n",
       "2   Action,Adventure,Sci-Fi                                dark phoenix   \n",
       "3   Action,Adventure,Sci-Fi                      avengers age of ultron   \n",
       "4   Action,Adventure,Sci-Fi                       avengers infinity war   \n",
       "\n",
       "  averagerating  numvotes  \n",
       "0           6.1        43  \n",
       "1           6.6    447624  \n",
       "2           6.0     24451  \n",
       "3           7.3    665594  \n",
       "4           8.5    670926  \n",
       "\n",
       "[5 rows x 21 columns]"
      ]
     },
     "execution_count": 25,
     "metadata": {},
     "output_type": "execute_result"
    }
   ],
   "source": [
    "# Display the first 5 rows of the df_final\n",
    "df_final.head()"
   ]
  },
  {
   "cell_type": "code",
   "execution_count": 26,
   "metadata": {},
   "outputs": [
    {
     "name": "stdout",
     "output_type": "stream",
     "text": [
      "Index(['id', 'release_date', 'movie', 'production_budget', 'domestic_gross',\n",
      "       'worldwide_gross', 'foreign_gross', 'profit', 'year', 'month', 'season',\n",
      "       'movie_id', 'runtime_minutes', 'genres', 'averagerating', 'numvotes'],\n",
      "      dtype='object')\n",
      "(3006, 16)\n"
     ]
    },
    {
     "data": {
      "text/html": [
       "<div>\n",
       "<style scoped>\n",
       "    .dataframe tbody tr th:only-of-type {\n",
       "        vertical-align: middle;\n",
       "    }\n",
       "\n",
       "    .dataframe tbody tr th {\n",
       "        vertical-align: top;\n",
       "    }\n",
       "\n",
       "    .dataframe thead th {\n",
       "        text-align: right;\n",
       "    }\n",
       "</style>\n",
       "<table border=\"1\" class=\"dataframe\">\n",
       "  <thead>\n",
       "    <tr style=\"text-align: right;\">\n",
       "      <th></th>\n",
       "      <th>id</th>\n",
       "      <th>release_date</th>\n",
       "      <th>movie</th>\n",
       "      <th>production_budget</th>\n",
       "      <th>domestic_gross</th>\n",
       "      <th>worldwide_gross</th>\n",
       "      <th>foreign_gross</th>\n",
       "      <th>profit</th>\n",
       "      <th>year</th>\n",
       "      <th>month</th>\n",
       "      <th>season</th>\n",
       "      <th>movie_id</th>\n",
       "      <th>runtime_minutes</th>\n",
       "      <th>genres</th>\n",
       "      <th>averagerating</th>\n",
       "      <th>numvotes</th>\n",
       "    </tr>\n",
       "  </thead>\n",
       "  <tbody>\n",
       "    <tr>\n",
       "      <th>0</th>\n",
       "      <td>1</td>\n",
       "      <td>2009-12-18</td>\n",
       "      <td>Avatar</td>\n",
       "      <td>425000000</td>\n",
       "      <td>760507625</td>\n",
       "      <td>2776345279</td>\n",
       "      <td>2015837654</td>\n",
       "      <td>2351345279</td>\n",
       "      <td>2009</td>\n",
       "      <td>12</td>\n",
       "      <td>Winter</td>\n",
       "      <td>tt1775309</td>\n",
       "      <td>93.0</td>\n",
       "      <td>Horror</td>\n",
       "      <td>6.1</td>\n",
       "      <td>43</td>\n",
       "    </tr>\n",
       "    <tr>\n",
       "      <th>1</th>\n",
       "      <td>2</td>\n",
       "      <td>2011-05-20</td>\n",
       "      <td>Pirates of the Caribbean: On Stranger Tides</td>\n",
       "      <td>410600000</td>\n",
       "      <td>241063875</td>\n",
       "      <td>1045663875</td>\n",
       "      <td>804600000</td>\n",
       "      <td>635063875</td>\n",
       "      <td>2011</td>\n",
       "      <td>5</td>\n",
       "      <td>Spring</td>\n",
       "      <td>tt1298650</td>\n",
       "      <td>136.0</td>\n",
       "      <td>Action,Adventure,Fantasy</td>\n",
       "      <td>6.6</td>\n",
       "      <td>447624</td>\n",
       "    </tr>\n",
       "    <tr>\n",
       "      <th>2</th>\n",
       "      <td>3</td>\n",
       "      <td>2019-06-07</td>\n",
       "      <td>Dark Phoenix</td>\n",
       "      <td>350000000</td>\n",
       "      <td>42762350</td>\n",
       "      <td>149762350</td>\n",
       "      <td>107000000</td>\n",
       "      <td>-200237650</td>\n",
       "      <td>2019</td>\n",
       "      <td>6</td>\n",
       "      <td>Summer</td>\n",
       "      <td>tt6565702</td>\n",
       "      <td>113.0</td>\n",
       "      <td>Action,Adventure,Sci-Fi</td>\n",
       "      <td>6.0</td>\n",
       "      <td>24451</td>\n",
       "    </tr>\n",
       "    <tr>\n",
       "      <th>3</th>\n",
       "      <td>4</td>\n",
       "      <td>2015-05-01</td>\n",
       "      <td>Avengers: Age of Ultron</td>\n",
       "      <td>330600000</td>\n",
       "      <td>459005868</td>\n",
       "      <td>1403013963</td>\n",
       "      <td>944008095</td>\n",
       "      <td>1072413963</td>\n",
       "      <td>2015</td>\n",
       "      <td>5</td>\n",
       "      <td>Spring</td>\n",
       "      <td>tt2395427</td>\n",
       "      <td>141.0</td>\n",
       "      <td>Action,Adventure,Sci-Fi</td>\n",
       "      <td>7.3</td>\n",
       "      <td>665594</td>\n",
       "    </tr>\n",
       "    <tr>\n",
       "      <th>4</th>\n",
       "      <td>7</td>\n",
       "      <td>2018-04-27</td>\n",
       "      <td>Avengers: Infinity War</td>\n",
       "      <td>300000000</td>\n",
       "      <td>678815482</td>\n",
       "      <td>2048134200</td>\n",
       "      <td>1369318718</td>\n",
       "      <td>1748134200</td>\n",
       "      <td>2018</td>\n",
       "      <td>4</td>\n",
       "      <td>Spring</td>\n",
       "      <td>tt4154756</td>\n",
       "      <td>149.0</td>\n",
       "      <td>Action,Adventure,Sci-Fi</td>\n",
       "      <td>8.5</td>\n",
       "      <td>670926</td>\n",
       "    </tr>\n",
       "  </tbody>\n",
       "</table>\n",
       "</div>"
      ],
      "text/plain": [
       "   id release_date                                        movie  \\\n",
       "0   1   2009-12-18                                       Avatar   \n",
       "1   2   2011-05-20  Pirates of the Caribbean: On Stranger Tides   \n",
       "2   3   2019-06-07                                 Dark Phoenix   \n",
       "3   4   2015-05-01                      Avengers: Age of Ultron   \n",
       "4   7   2018-04-27                       Avengers: Infinity War   \n",
       "\n",
       "   production_budget  domestic_gross  worldwide_gross  foreign_gross  \\\n",
       "0          425000000       760507625       2776345279     2015837654   \n",
       "1          410600000       241063875       1045663875      804600000   \n",
       "2          350000000        42762350        149762350      107000000   \n",
       "3          330600000       459005868       1403013963      944008095   \n",
       "4          300000000       678815482       2048134200     1369318718   \n",
       "\n",
       "       profit  year  month  season   movie_id  runtime_minutes  \\\n",
       "0  2351345279  2009     12  Winter  tt1775309             93.0   \n",
       "1   635063875  2011      5  Spring  tt1298650            136.0   \n",
       "2  -200237650  2019      6  Summer  tt6565702            113.0   \n",
       "3  1072413963  2015      5  Spring  tt2395427            141.0   \n",
       "4  1748134200  2018      4  Spring  tt4154756            149.0   \n",
       "\n",
       "                     genres  averagerating  numvotes  \n",
       "0                    Horror            6.1        43  \n",
       "1  Action,Adventure,Fantasy            6.6    447624  \n",
       "2   Action,Adventure,Sci-Fi            6.0     24451  \n",
       "3   Action,Adventure,Sci-Fi            7.3    665594  \n",
       "4   Action,Adventure,Sci-Fi            8.5    670926  "
      ]
     },
     "execution_count": 26,
     "metadata": {},
     "output_type": "execute_result"
    }
   ],
   "source": [
    "# We select the columns to drop: either redundant or not useful\n",
    "columns_to_drop = [\n",
    "    'primary_title',         # same as 'movie'\n",
    "    'original_title',\n",
    "    'primary_title_norm',        # also similar\n",
    "    'start_year',            # same as 'year'\n",
    "    'movie_norm',            # duplicate of 'primary_title_norm'\n",
    "]\n",
    "\n",
    "# Drop the selected columns\n",
    "df_clean = df_final.drop(columns=columns_to_drop)\n",
    "\n",
    "# Check the result\n",
    "print(df_clean.columns)\n",
    "print(df_clean.shape)\n",
    "df_clean.head()"
   ]
  },
  {
   "cell_type": "markdown",
   "metadata": {},
   "source": [
    "To construct a clean, unified dataset integrating financial figures, movie metadata, and audience ratings, we carried out a structured data integration process. The first step involved standardizing movie titles across datasets: both the financial dataset (`df1`) and the `IMDb` descriptive dataset (`df_basics`) underwent title normalization, which included converting titles to lowercase, stripping punctuation, and reducing multiple spaces. This normalization was essential to ensure consistent matching despite variations in formatting.\n",
    "\n",
    "Following this, we merged the financial and descriptive datasets using inner joins on the normalized titles, preserving only exact matches to maintain data reliability. This operation yielded 4,002 matched records, aligning movies from the two independent sources.\n",
    "\n",
    "Next, we further enriched this merged dataset by integrating `IMDb` ratings (`df_ratings`) based on the unique movie identifier (`movie_id`). Again, an inner join was used to ensure that only movies with available rating information were retained, resulting in a final dataset of 3,006 films.\n",
    "\n",
    "To streamline the dataset and eliminate redundancy, we removed duplicate or unnecessary columns such as the original titles, normalized keys, and overlapping year fields. The resulting dataset includes financial indicators (budgets, revenues, profits), descriptive attributes (release dates, genres, runtimes), and audience reception data (ratings and vote counts).\n",
    "\n",
    "This cleaned and enriched dataset ensures high consistency and completeness across all variables, providing a robust foundation for reliable exploratory analysis, hypothesis testing, and predictive modeling."
   ]
  },
  {
   "cell_type": "markdown",
   "metadata": {},
   "source": [
    "## 3-Analysis and Results"
   ]
  },
  {
   "cell_type": "markdown",
   "metadata": {},
   "source": [
    "### 3.0 Summary of numerical variables"
   ]
  },
  {
   "cell_type": "code",
   "execution_count": 70,
   "metadata": {},
   "outputs": [
    {
     "data": {
      "text/html": [
       "<div>\n",
       "<style scoped>\n",
       "    .dataframe tbody tr th:only-of-type {\n",
       "        vertical-align: middle;\n",
       "    }\n",
       "\n",
       "    .dataframe tbody tr th {\n",
       "        vertical-align: top;\n",
       "    }\n",
       "\n",
       "    .dataframe thead th {\n",
       "        text-align: right;\n",
       "    }\n",
       "</style>\n",
       "<table border=\"1\" class=\"dataframe\">\n",
       "  <thead>\n",
       "    <tr style=\"text-align: right;\">\n",
       "      <th></th>\n",
       "      <th>id</th>\n",
       "      <th>production_budget</th>\n",
       "      <th>domestic_gross</th>\n",
       "      <th>worldwide_gross</th>\n",
       "      <th>foreign_gross</th>\n",
       "      <th>profit</th>\n",
       "      <th>year</th>\n",
       "      <th>month</th>\n",
       "      <th>runtime_minutes</th>\n",
       "      <th>averagerating</th>\n",
       "      <th>numvotes</th>\n",
       "    </tr>\n",
       "  </thead>\n",
       "  <tbody>\n",
       "    <tr>\n",
       "      <th>count</th>\n",
       "      <td>3006.000000</td>\n",
       "      <td>3.006000e+03</td>\n",
       "      <td>3.006000e+03</td>\n",
       "      <td>3.006000e+03</td>\n",
       "      <td>3.006000e+03</td>\n",
       "      <td>3.006000e+03</td>\n",
       "      <td>3006.000000</td>\n",
       "      <td>3006.000000</td>\n",
       "      <td>3006.000000</td>\n",
       "      <td>3006.000000</td>\n",
       "      <td>3.006000e+03</td>\n",
       "    </tr>\n",
       "    <tr>\n",
       "      <th>mean</th>\n",
       "      <td>50.985695</td>\n",
       "      <td>3.415028e+07</td>\n",
       "      <td>4.304762e+07</td>\n",
       "      <td>1.024793e+08</td>\n",
       "      <td>5.943170e+07</td>\n",
       "      <td>6.832905e+07</td>\n",
       "      <td>2010.320027</td>\n",
       "      <td>6.972721</td>\n",
       "      <td>102.353792</td>\n",
       "      <td>6.249900</td>\n",
       "      <td>6.551423e+04</td>\n",
       "    </tr>\n",
       "    <tr>\n",
       "      <th>std</th>\n",
       "      <td>28.652734</td>\n",
       "      <td>4.741874e+07</td>\n",
       "      <td>7.426241e+07</td>\n",
       "      <td>2.020387e+08</td>\n",
       "      <td>1.338539e+08</td>\n",
       "      <td>1.678678e+08</td>\n",
       "      <td>9.221442</td>\n",
       "      <td>3.516151</td>\n",
       "      <td>20.543448</td>\n",
       "      <td>1.187665</td>\n",
       "      <td>1.328346e+05</td>\n",
       "    </tr>\n",
       "    <tr>\n",
       "      <th>min</th>\n",
       "      <td>1.000000</td>\n",
       "      <td>1.400000e+03</td>\n",
       "      <td>0.000000e+00</td>\n",
       "      <td>0.000000e+00</td>\n",
       "      <td>0.000000e+00</td>\n",
       "      <td>-2.002376e+08</td>\n",
       "      <td>1915.000000</td>\n",
       "      <td>1.000000</td>\n",
       "      <td>3.000000</td>\n",
       "      <td>1.600000</td>\n",
       "      <td>5.000000e+00</td>\n",
       "    </tr>\n",
       "    <tr>\n",
       "      <th>25%</th>\n",
       "      <td>27.000000</td>\n",
       "      <td>5.000000e+06</td>\n",
       "      <td>5.017520e+05</td>\n",
       "      <td>2.351108e+06</td>\n",
       "      <td>9.111600e+04</td>\n",
       "      <td>-2.302890e+06</td>\n",
       "      <td>2010.000000</td>\n",
       "      <td>4.000000</td>\n",
       "      <td>90.000000</td>\n",
       "      <td>5.600000</td>\n",
       "      <td>1.352500e+02</td>\n",
       "    </tr>\n",
       "    <tr>\n",
       "      <th>50%</th>\n",
       "      <td>51.000000</td>\n",
       "      <td>1.700000e+07</td>\n",
       "      <td>1.679261e+07</td>\n",
       "      <td>3.037390e+07</td>\n",
       "      <td>9.741772e+06</td>\n",
       "      <td>1.005956e+07</td>\n",
       "      <td>2013.000000</td>\n",
       "      <td>7.000000</td>\n",
       "      <td>100.000000</td>\n",
       "      <td>6.400000</td>\n",
       "      <td>7.640000e+03</td>\n",
       "    </tr>\n",
       "    <tr>\n",
       "      <th>75%</th>\n",
       "      <td>76.000000</td>\n",
       "      <td>4.000000e+07</td>\n",
       "      <td>5.186765e+07</td>\n",
       "      <td>1.011621e+08</td>\n",
       "      <td>5.293466e+07</td>\n",
       "      <td>6.271639e+07</td>\n",
       "      <td>2015.000000</td>\n",
       "      <td>10.000000</td>\n",
       "      <td>113.000000</td>\n",
       "      <td>7.100000</td>\n",
       "      <td>7.477100e+04</td>\n",
       "    </tr>\n",
       "    <tr>\n",
       "      <th>max</th>\n",
       "      <td>100.000000</td>\n",
       "      <td>4.250000e+08</td>\n",
       "      <td>7.605076e+08</td>\n",
       "      <td>2.776345e+09</td>\n",
       "      <td>2.015838e+09</td>\n",
       "      <td>2.351345e+09</td>\n",
       "      <td>2019.000000</td>\n",
       "      <td>12.000000</td>\n",
       "      <td>280.000000</td>\n",
       "      <td>9.400000</td>\n",
       "      <td>1.841066e+06</td>\n",
       "    </tr>\n",
       "  </tbody>\n",
       "</table>\n",
       "</div>"
      ],
      "text/plain": [
       "                id  production_budget  domestic_gross  worldwide_gross  \\\n",
       "count  3006.000000       3.006000e+03    3.006000e+03     3.006000e+03   \n",
       "mean     50.985695       3.415028e+07    4.304762e+07     1.024793e+08   \n",
       "std      28.652734       4.741874e+07    7.426241e+07     2.020387e+08   \n",
       "min       1.000000       1.400000e+03    0.000000e+00     0.000000e+00   \n",
       "25%      27.000000       5.000000e+06    5.017520e+05     2.351108e+06   \n",
       "50%      51.000000       1.700000e+07    1.679261e+07     3.037390e+07   \n",
       "75%      76.000000       4.000000e+07    5.186765e+07     1.011621e+08   \n",
       "max     100.000000       4.250000e+08    7.605076e+08     2.776345e+09   \n",
       "\n",
       "       foreign_gross        profit         year        month  runtime_minutes  \\\n",
       "count   3.006000e+03  3.006000e+03  3006.000000  3006.000000      3006.000000   \n",
       "mean    5.943170e+07  6.832905e+07  2010.320027     6.972721       102.353792   \n",
       "std     1.338539e+08  1.678678e+08     9.221442     3.516151        20.543448   \n",
       "min     0.000000e+00 -2.002376e+08  1915.000000     1.000000         3.000000   \n",
       "25%     9.111600e+04 -2.302890e+06  2010.000000     4.000000        90.000000   \n",
       "50%     9.741772e+06  1.005956e+07  2013.000000     7.000000       100.000000   \n",
       "75%     5.293466e+07  6.271639e+07  2015.000000    10.000000       113.000000   \n",
       "max     2.015838e+09  2.351345e+09  2019.000000    12.000000       280.000000   \n",
       "\n",
       "       averagerating      numvotes  \n",
       "count    3006.000000  3.006000e+03  \n",
       "mean        6.249900  6.551423e+04  \n",
       "std         1.187665  1.328346e+05  \n",
       "min         1.600000  5.000000e+00  \n",
       "25%         5.600000  1.352500e+02  \n",
       "50%         6.400000  7.640000e+03  \n",
       "75%         7.100000  7.477100e+04  \n",
       "max         9.400000  1.841066e+06  "
      ]
     },
     "execution_count": 70,
     "metadata": {},
     "output_type": "execute_result"
    }
   ],
   "source": [
    "# Summary tables\n",
    "df_clean.describe()"
   ]
  },
  {
   "cell_type": "markdown",
   "metadata": {},
   "source": [
    "The descriptive analysis of numerical variables reveals substantial financial variability among the films studied. The average production budget is approximately 34 million USD, with a high standard deviation, indicating significant disparities between independent films and major productions. Worldwide gross revenues vary widely, with a median around 30 million but a much higher mean of 102 million, reflecting the presence of blockbuster hits that skew the average upwards. The median profit is about 10 million, while losses reaching as much as (–200) million are observed, highlighting cases of commercial failure.\n",
    "\n",
    "From a temporal perspective, the dataset covers films from 1915 to 2019, with a concentration primarily in the 2010s and a median release month of July (summer in the United States). Regarding seasons, the distribution suggests patterns that can be further explored in bivariate analysis, particularly to test whether summer releases are indeed more profitable than those launched in winter or spring.\n",
    "\n",
    "For other variables, the average runtime is 102 minutes, the average IMDb rating is 6.2/10, indicating moderate perceived quality, and the number of votes ranges dramatically (from 5 to over 1.8 million), reflecting large differences in popularity and visibility."
   ]
  },
  {
   "cell_type": "markdown",
   "metadata": {},
   "source": [
    "## 3.1 Univariate Analysis  \n",
    "We analyze the distribution of key variables in the dataset, such as `profit`, `genres`, `year`, and `season`. This helps identify overall trends, outliers, and how the observations are distributed.  \n",
    "\n",
    "`profit`: To understand the distribution of film profitability.  \n",
    "\n",
    "`genres`: To identify the most common or dominant genres.  \n",
    "\n",
    "`year`: To examine temporal trends in film production and release.  \n",
    "\n",
    "`season`: To observe how film releases are distributed across different seasons.  "
   ]
  },
  {
   "cell_type": "code",
   "execution_count": 27,
   "metadata": {},
   "outputs": [
    {
     "data": {
      "image/png": "[encoded data removed]",
      "text/plain": [
       "<Figure size 720x432 with 1 Axes>"
      ]
     },
     "metadata": {
      "needs_background": "light"
     },
     "output_type": "display_data"
    }
   ],
   "source": [
    "# Profit distribution\n",
    "plt.figure(figsize=(10,6))\n",
    "plt.hist(df_clean['profit'], bins=100, color='skyblue', edgecolor='black')\n",
    "plt.title('Distribution of Film Profits')\n",
    "plt.xlabel('Profit ($)')\n",
    "plt.ylabel('Number of Films')\n",
    "plt.xlim(-50000000, 100000000)  # zoom\n",
    "plt.show()\n"
   ]
  },
  {
   "cell_type": "code",
   "execution_count": 73,
   "metadata": {},
   "outputs": [
    {
     "data": {
      "image/png": "[encoded data removed]",
      "text/plain": [
       "<Figure size 576x288 with 1 Axes>"
      ]
     },
     "metadata": {
      "needs_background": "light"
     },
     "output_type": "display_data"
    }
   ],
   "source": [
    "# Boxplot to identify outliers\n",
    "plt.figure(figsize=(8,4))\n",
    "plt.boxplot(df_clean['profit'], vert=False)\n",
    "plt.title('Boxplot of Film Profits')\n",
    "plt.xlabel('Profit ($)')\n",
    "plt.show()"
   ]
  },
  {
   "cell_type": "code",
   "execution_count": 77,
   "metadata": {},
   "outputs": [
    {
     "data": {
      "image/png": "[encoded data removed]",
      "text/plain": [
       "<Figure size 432x288 with 1 Axes>"
      ]
     },
     "metadata": {
      "needs_background": "light"
     },
     "output_type": "display_data"
    }
   ],
   "source": [
    "# Genre frequency\n",
    "df_clean['genres'].value_counts().head(10).plot(kind='bar')\n",
    "plt.title('Top 10 Genres')\n",
    "plt.ylabel('Count')\n",
    "plt.show()"
   ]
  },
  {
   "cell_type": "code",
   "execution_count": 84,
   "metadata": {},
   "outputs": [
    {
     "data": {
      "image/png": "[encoded data removed]",
      "text/plain": [
       "<Figure size 864x288 with 1 Axes>"
      ]
     },
     "metadata": {
      "needs_background": "light"
     },
     "output_type": "display_data"
    }
   ],
   "source": [
    "# Step 1: Group by year and count the number of films\n",
    "movies_per_year = df_clean['year'].value_counts().sort_index()\n",
    "\n",
    "# Step 2: Plot the trend over time\n",
    "plt.figure(figsize=(12, 4))\n",
    "plt.plot(movies_per_year.index, movies_per_year.values, marker='o', color='royalblue', linewidth=2)\n",
    "\n",
    "plt.title('Evolution of Movie Production Over Time', fontsize=14)\n",
    "plt.xlabel('Year')\n",
    "plt.ylabel('Number of Movies')\n",
    "plt.xticks(rotation=45)\n",
    "plt.grid(True, linestyle='--', alpha=0.6)\n",
    "plt.tight_layout()\n",
    "plt.show()\n"
   ]
  },
  {
   "cell_type": "code",
   "execution_count": 80,
   "metadata": {
    "scrolled": true
   },
   "outputs": [
    {
     "data": {
      "image/png": "[encoded data removed]",
      "text/plain": [
       "<Figure size 432x288 with 1 Axes>"
      ]
     },
     "metadata": {},
     "output_type": "display_data"
    }
   ],
   "source": [
    "# Movies by season\n",
    "df_clean['season'].value_counts().plot(kind='pie', autopct='%1.1f%%', startangle=90)\n",
    "plt.title('Distribution by Season')\n",
    "plt.ylabel('')\n",
    "plt.show()"
   ]
  },
  {
   "cell_type": "markdown",
   "metadata": {},
   "source": [
    "## 2.2 Bivariate Analysis\n",
    "The goal here is to explore relationships between pairs of variables. For example:\n",
    "\n",
    "- profit vs averagerating: Are higher-rated films more profitable?\n",
    "\n",
    "- profit vs season: Are some seasons more profitable than others?\n",
    "\n",
    "- profit vs numvotes: Do more popular films generate higher profits?\n",
    "\n",
    "- Profit vs Genre: which genres tend to be more or less profitable?"
   ]
  },
  {
   "cell_type": "code",
   "execution_count": 85,
   "metadata": {},
   "outputs": [
    {
     "data": {
      "image/png": "[encoded data removed]",
      "text/plain": [
       "<Figure size 432x288 with 1 Axes>"
      ]
     },
     "metadata": {
      "needs_background": "light"
     },
     "output_type": "display_data"
    }
   ],
   "source": [
    "# Profit vs Average Rating\n",
    "sns.scatterplot(data=df_clean, x='averagerating', y='profit')\n",
    "plt.title('Profit vs Average Rating')\n",
    "plt.xlabel('Average Rating (IMDb)')\n",
    "plt.ylabel('Profit ($)')\n",
    "plt.grid(True, linestyle='--', alpha=0.5)\n",
    "plt.show()"
   ]
  },
  {
   "cell_type": "code",
   "execution_count": 86,
   "metadata": {},
   "outputs": [
    {
     "data": {
      "image/png": "[encoded data removed]",
      "text/plain": [
       "<Figure size 432x288 with 1 Axes>"
      ]
     },
     "metadata": {
      "needs_background": "light"
     },
     "output_type": "display_data"
    }
   ],
   "source": [
    "# Profit by Season\n",
    "sns.boxplot(data=df_clean, x='season', y='profit')\n",
    "plt.title('Profit by Season')\n",
    "plt.xlabel('Season')\n",
    "plt.ylabel('Profit ($)')\n",
    "plt.grid(True, linestyle='--', alpha=0.5)\n",
    "plt.show()"
   ]
  },
  {
   "cell_type": "code",
   "execution_count": 87,
   "metadata": {},
   "outputs": [
    {
     "data": {
      "image/png": "[encoded data removed]",
      "text/plain": [
       "<Figure size 432x288 with 1 Axes>"
      ]
     },
     "metadata": {
      "needs_background": "light"
     },
     "output_type": "display_data"
    }
   ],
   "source": [
    "# Profit vs Number of Votes (log scale)\n",
    "sns.scatterplot(data=df_clean, x='numvotes', y='profit')\n",
    "plt.xscale('log')  # Log scale to reduce skewness\n",
    "plt.title('Profit vs Number of Votes')\n",
    "plt.xlabel('Number of Votes (log scale)')\n",
    "plt.ylabel('Profit ($)')\n",
    "plt.grid(True, linestyle='--', alpha=0.5)\n",
    "plt.show()"
   ]
  },
  {
   "cell_type": "code",
   "execution_count": 89,
   "metadata": {},
   "outputs": [
    {
     "data": {
      "image/png": "[encoded data removed]",
      "text/plain": [
       "<Figure size 864x432 with 1 Axes>"
      ]
     },
     "metadata": {
      "needs_background": "light"
     },
     "output_type": "display_data"
    }
   ],
   "source": [
    "# Select the 10 most frequent genres\n",
    "top10_genres = df_clean['genres'].value_counts().nlargest(10).index\n",
    "\n",
    "# Filter the DataFrame to include only those genres\n",
    "df_top_genres = df_clean[df_clean['genres'].isin(top10_genres)]\n",
    "\n",
    "# Create the boxplot\n",
    "plt.figure(figsize=(12, 6))\n",
    "sns.boxplot(data=df_top_genres, x='genres', y='profit')\n",
    "plt.title('Profit by Top 10 Genres')\n",
    "plt.xlabel('Genre')\n",
    "plt.ylabel('Profit ($)')\n",
    "plt.xticks(rotation=45)\n",
    "plt.grid(True, linestyle='--', alpha=0.5)\n",
    "plt.tight_layout()\n",
    "plt.show()\n"
   ]
  },
  {
   "cell_type": "markdown",
   "metadata": {},
   "source": [
    "## 4-Hypothesis testing"
   ]
  },
  {
   "cell_type": "markdown",
   "metadata": {},
   "source": [
    "## 4.1-Test 1: Hypothesis\n",
    "**Are Big-Budget Films More Profitable Than Low-Budget Films?**  \n",
    "Hint: We divide films into two groups based on the median production budget.\n",
    "\n",
    "## Hypotheses:\n",
    "\n",
    "H₀: The average profit of high-budget movies is less than or equal to that of low-budget movies.\n",
    "\n",
    "H₁: The average profit of high-budget movies is strictly greater."
   ]
  },
  {
   "cell_type": "markdown",
   "metadata": {},
   "source": [
    "## Significance Level\n",
    "α = 0.05"
   ]
  },
  {
   "cell_type": "markdown",
   "metadata": {},
   "source": [
    "## Statistical Test"
   ]
  },
  {
   "cell_type": "code",
   "execution_count": 30,
   "metadata": {},
   "outputs": [
    {
     "name": "stdout",
     "output_type": "stream",
     "text": [
      "T-statistic: 17.86\n",
      "P-value (one-tailed): 0.0000\n"
     ]
    }
   ],
   "source": [
    "from scipy.stats import ttest_ind\n",
    "\n",
    "# Calculate median production budget\n",
    "median_budget = df_clean['production_budget'].median()\n",
    "\n",
    "# Define groups based on the median\n",
    "high_budget = df_clean[df_clean['production_budget'] > median_budget]['profit']\n",
    "low_budget = df_clean[df_clean['production_budget'] <= median_budget]['profit']\n",
    "\n",
    "# Perform one-tailed t-test\n",
    "t_stat, p_val = ttest_ind(high_budget, low_budget, equal_var=False)\n",
    "\n",
    "print(f\"T-statistic: {t_stat:.2f}\")\n",
    "print(f\"P-value (one-tailed): {p_val / 2:.4f}\")"
   ]
  },
  {
   "cell_type": "markdown",
   "metadata": {},
   "source": [
    "## Decision"
   ]
  },
  {
   "cell_type": "markdown",
   "metadata": {},
   "source": [
    "Since the one-tailed p-value is 0.0000, which is less than the significance level α = 0.05, and the t-statistic is positive (17.86), we reject the null hypothesis H₀.  \n",
    "\n",
    " **Conclusion**: There is strong statistical evidence that high-budget movies (above the median) are significantly more profitable than low-budget ones."
   ]
  },
  {
   "cell_type": "markdown",
   "metadata": {},
   "source": [
    "## 4.2-Test 2: Hypothesis  \n",
    "**Are longer movies (≥ 120 minutes) rated lower than shorter ones?** \n",
    "\n",
    "## Hypotheses: \n",
    "H₀ (null hypothesis): Long movies have an average rating greater than or equal to short movies.\n",
    "\n",
    "H₁ (alternative hypothesis): Long movies have an average rating strictly lower than short movies."
   ]
  },
  {
   "cell_type": "markdown",
   "metadata": {},
   "source": [
    "## Significance Level\n",
    "α = 0.05"
   ]
  },
  {
   "cell_type": "markdown",
   "metadata": {},
   "source": [
    "## Statistical Test"
   ]
  },
  {
   "cell_type": "code",
   "execution_count": 32,
   "metadata": {},
   "outputs": [
    {
     "name": "stdout",
     "output_type": "stream",
     "text": [
      "T-statistic: 11.84\n",
      "P-value (one-tailed): 0.0000\n"
     ]
    }
   ],
   "source": [
    "from scipy.stats import ttest_ind\n",
    "\n",
    "longs = df_clean[df_clean['runtime_minutes'] >= 120]['averagerating']\n",
    "courts = df_clean[df_clean['runtime_minutes'] < 120]['averagerating']\n",
    "\n",
    "t_stat, p_val = ttest_ind(longs, courts, equal_var=False)\n",
    "\n",
    "print(f\"T-statistic: {t_stat:.2f}\")\n",
    "print(f\"P-value (one-tailed): {p_val / 2:.4f}\")\n"
   ]
  },
  {
   "cell_type": "markdown",
   "metadata": {},
   "source": [
    "## Decision"
   ]
  },
  {
   "cell_type": "markdown",
   "metadata": {},
   "source": [
    "The t-statistic is 11.84 and the one-tailed p-value is 0.0000, which is less than the significance level α = 0.05. However, since the t-statistic is positive, this indicates that long movies actually have a higher average rating than short ones.  \n",
    "\n",
    "**Conclusion**: Therefore, we do not reject H₀. In fact, we have strong evidence against H₁, and conclude that longer movies are not rated lower, they are rated higher on average."
   ]
  },
  {
   "cell_type": "markdown",
   "metadata": {},
   "source": [
    "##  4.3-Test 3: Hypothesis\n",
    "**Do profits differ by season of movie release?**"
   ]
  },
  {
   "cell_type": "markdown",
   "metadata": {},
   "source": [
    "## Hypotheses:\n",
    "H₀: The mean profit is the same across all seasons.\n",
    "\n",
    "H₁: At least one season has a different mean profit."
   ]
  },
  {
   "cell_type": "markdown",
   "metadata": {},
   "source": [
    "## Significance Level\n",
    "α = 0.05"
   ]
  },
  {
   "cell_type": "markdown",
   "metadata": {},
   "source": [
    "## Statistical Test"
   ]
  },
  {
   "cell_type": "code",
   "execution_count": 33,
   "metadata": {},
   "outputs": [
    {
     "name": "stdout",
     "output_type": "stream",
     "text": [
      "ANOVA results:\n",
      "                sum_sq      df         F    PR(>F)\n",
      "season    4.154242e+17     3.0  4.933303  0.002028\n",
      "Residual  8.426427e+19  3002.0       NaN       NaN\n"
     ]
    }
   ],
   "source": [
    "import statsmodels.api as sm\n",
    "from statsmodels.formula.api import ols\n",
    "from statsmodels.stats.multicomp import pairwise_tukeyhsd\n",
    "\n",
    "# ANOVA test\n",
    "model = ols('profit ~ season', data=df_clean).fit()\n",
    "anova_table = sm.stats.anova_lm(model, typ=2)\n",
    "print(\"ANOVA results:\")\n",
    "print(anova_table)"
   ]
  },
  {
   "cell_type": "markdown",
   "metadata": {},
   "source": [
    "## Decision"
   ]
  },
  {
   "cell_type": "markdown",
   "metadata": {},
   "source": [
    "Since the p-value (0.002) is less than the significance level of 0.05, we reject the null hypothesis. This indicates that there is a statistically significant difference in the average profits of movies based on their release season.   \n",
    "**Conclusion**: Therefore, the season of release affects the average movie profit. To identify which specific seasons differ, a post-hoc test (such as Tukey HSD) is needed."
   ]
  },
  {
   "cell_type": "code",
   "execution_count": 34,
   "metadata": {},
   "outputs": [
    {
     "name": "stdout",
     "output_type": "stream",
     "text": [
      "\n",
      "Tukey HSD post-hoc test results:\n",
      "          Multiple Comparison of Means - Tukey HSD, FWER=0.05          \n",
      "=======================================================================\n",
      "group1 group2    meandiff    p-adj      lower          upper     reject\n",
      "-----------------------------------------------------------------------\n",
      "Autumn Spring  18560860.6564   0.14   -3709800.093 40831521.4059  False\n",
      "Autumn Summer  25001651.9484 0.0204   2747657.8682 47255646.0286   True\n",
      "Autumn Winter  -2543234.6637    0.9 -24129995.3915  19043526.064  False\n",
      "Spring Summer   6440791.2919 0.8795 -16464424.9625 29346007.5463  False\n",
      "Spring Winter -21104095.3202 0.0706 -43361609.0595  1153418.4192  False\n",
      "Summer Winter -27544886.6121  0.008 -49785723.8302  -5304049.394   True\n",
      "-----------------------------------------------------------------------\n"
     ]
    }
   ],
   "source": [
    "## Tukey HSD post-hoc test\n",
    "tukey = pairwise_tukeyhsd(endog=df_clean['profit'], groups=df_clean['season'], alpha=0.05)\n",
    "print(\"\\nTukey HSD post-hoc test results:\")\n",
    "print(tukey.summary())"
   ]
  },
  {
   "cell_type": "markdown",
   "metadata": {},
   "source": [
    "**Tukey HSD Post-Hoc Test Interpretation:**\n",
    "\n",
    "The test compares the mean profit differences between pairs of seasons, adjusting for multiple comparisons.\n",
    "\n",
    "Significant differences (p-adj < 0.05 and reject = True) are found between:\n",
    "\n",
    "Autumn vs Summer (mean difference ≈ 25 million, p = 0.0204)\n",
    "\n",
    "Summer vs Winter (mean difference ≈ -27.5 million, p = 0.008)\n",
    "\n",
    "**Decision:**  \n",
    "There is strong evidence that movie profits differ significantly between Summer and both Autumn and Winter. Specifically:\n",
    "\n",
    "- Movies released in Summer tend to have higher profits compared to those released in Autumn.\n",
    "\n",
    "- Movies released in Summer also tend to be more profitable than those released in Winter.\n",
    "\n",
    "No other pairwise seasonal comparisons showed statistically significant profit differences. This suggests that the release season influences profitability, with Summer being the most favorable period.\n"
   ]
  },
  {
   "cell_type": "markdown",
   "metadata": {},
   "source": [
    "## 5-Modeling Section: Predicting Film Profitability"
   ]
  },
  {
   "cell_type": "markdown",
   "metadata": {},
   "source": [
    "The goal of this modeling exercise is to understand the factors influencing the financial success of films, measured by their profit (difference between `worldwide_gross` and `production_budget`). By quantifying the impact of key variables such as production budget, runtime, audience engagement, average ratings, and seasonal effects, we aim to identify the most significant drivers of profitability. This model will provide actionable insights to guide production and marketing decisions for a new film studio."
   ]
  },
  {
   "cell_type": "markdown",
   "metadata": {},
   "source": [
    "- Dependent Variable   \n",
    "\n",
    "  - `profit`: The target variable representing the net financial gain of a movie.\n",
    "\n",
    "- Independent Variables\n",
    "\n",
    "     - `production_budget`: The amount invested in producing the film (in USD).\n",
    "\n",
    "  - `runtime_minutes`: Duration of the film in minutes.\n",
    "\n",
    "  - `numvotes`: Number of votes, a proxy for audience engagement/popularity (log transformation may be considered).\n",
    "\n",
    "  - `averagerating`: IMDb average user rating reflecting perceived quality.\n",
    "\n",
    "  - `season`: Categorical variable indicating the film’s release season, converted into dummy variables to capture seasonal effects on profit.\n",
    "\n"
   ]
  },
  {
   "cell_type": "markdown",
   "metadata": {},
   "source": [
    "## Business Recommendations\n",
    "Based on rigorous statistical analyses of film profitability, audience ratings, and seasonal effects, the following strategic recommendations aim to guide investment decisions and maximize box-office success:"
   ]
  },
  {
   "cell_type": "markdown",
   "metadata": {},
   "source": [
    "### Business Recommendation 1"
   ]
  },
  {
   "cell_type": "markdown",
   "metadata": {},
   "source": [
    "**- Focus Film Releases on the Summer Season**  \n",
    "Our analysis shows that movies released during the summer period generate significantly higher profits compared to other seasons. For a new studio seeking to maximize revenue, prioritizing summer release dates is a strategic advantage, as audience attendance tends to peak during this time.\n",
    "\n"
   ]
  },
  {
   "cell_type": "markdown",
   "metadata": {},
   "source": [
    "### Business Recommendation 2"
   ]
  },
  {
   "cell_type": "markdown",
   "metadata": {},
   "source": [
    "**- Allocate Sufficient Budget to Production**  \n",
    "Films with higher production budgets consistently demonstrate greater profitability. While budget management remains crucial, investing adequately in production quality—such as casting, special effects, and marketing—can substantially enhance a film’s commercial performance and competitive positioning."
   ]
  },
  {
   "cell_type": "markdown",
   "metadata": {},
   "source": [
    "### Business Recommendation 3"
   ]
  },
  {
   "cell_type": "markdown",
   "metadata": {},
   "source": [
    "**- Balance Film Length with Audience Engagement**  \n",
    "Although longer films (running 120 minutes or more) tend to achieve higher profits, they are also associated with slightly lower audience ratings. It is therefore essential to balance runtime with compelling storytelling and pacing to ensure positive viewer reception while capitalizing on profitability."
   ]
  },
  {
   "cell_type": "markdown",
   "metadata": {},
   "source": [
    "## Conclusion"
   ]
  },
  {
   "cell_type": "code",
   "execution_count": null,
   "metadata": {},
   "outputs": [],
   "source": []
  },
  {
   "cell_type": "markdown",
   "metadata": {},
   "source": [
    "### Next Steps"
   ]
  },
  {
   "cell_type": "code",
   "execution_count": null,
   "metadata": {},
   "outputs": [],
   "source": []
  }
 ],
 "metadata": {
  "kernelspec": {
   "display_name": "Python 3",
   "language": "python",
   "name": "python3"
  },
  "language_info": {
   "codemirror_mode": {
    "name": "ipython",
    "version": 3
   },
   "file_extension": ".py",
   "mimetype": "text/x-python",
   "name": "python",
   "nbconvert_exporter": "python",
   "pygments_lexer": "ipython3",
   "version": "3.8.5"
  }
 },
 "nbformat": 4,
 "nbformat_minor": 2
}
